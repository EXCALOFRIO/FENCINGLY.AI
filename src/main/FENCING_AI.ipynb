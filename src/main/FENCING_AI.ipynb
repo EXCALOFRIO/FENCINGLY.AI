{
 "cells": [
  {
   "cell_type": "markdown",
   "id": "6174e572-f972-4ebd-8f00-6155f16cf2e4",
   "metadata": {},
   "source": [
    "# VER GPU"
   ]
  },
  {
   "cell_type": "code",
   "execution_count": null,
   "id": "5789ec0a",
   "metadata": {},
   "outputs": [],
   "source": [
    "!nvidia-smi\n",
    "import torch\n",
    "\n",
    "if torch.cuda.is_available():\n",
    "    print(\"GPU disponible\")\n",
    "else:\n",
    "    print(\"GPU no disponible\")"
   ]
  },
  {
   "cell_type": "markdown",
   "id": "4ff7fd6d-67e4-4ef0-8e39-50baa0f34d98",
   "metadata": {},
   "source": [
    "# IMPORTAR JSON"
   ]
  },
  {
   "cell_type": "code",
   "execution_count": 1,
   "id": "b80652d7",
   "metadata": {},
   "outputs": [
    {
     "name": "stderr",
     "output_type": "stream",
     "text": [
      "Loading data: 100%|██████████| 7694/7694 [00:19<00:00, 397.34it/s]\n",
      "Loading data: 100%|██████████| 7694/7694 [00:19<00:00, 396.61it/s]\n"
     ]
    }
   ],
   "source": [
    "from custom_transforms import *\n",
    "from dataset import *\n",
    "from generarModelo import *\n",
    "from torch.nn.functional import normalize\n",
    "from validar_transformaciones import *\n",
    "\n",
    "\n",
    "izquierda_dir = r\"C:/Users/Alejandro/TFG_ENTRENAMIENTO/JSON_FORMADOS/IZQUIERDA_NORMALIZADO\"\n",
    "derecha_dir = r\"C:/Users/Alejandro/TFG_ENTRENAMIENTO/JSON_FORMADOS/DERECHA_NORMALIZADO\"\n",
    "\n",
    "porcentaje_entrenamiento = 0.70\n",
    "porcentaje_validacion = 0.15\n",
    "porcentaje_prueba = 0.15\n",
    "\n",
    "datos_entrenamiento, datos_validacion, datos_prueba, etiquetas_entrenamiento, etiquetas_validacion, etiquetas_prueba = cargar_y_preparar_datos(izquierda_dir, derecha_dir, porcentaje_entrenamiento, porcentaje_validacion, porcentaje_prueba)"
   ]
  },
  {
   "cell_type": "markdown",
   "id": "a65c4e72-9ee4-4bea-b34c-56eae9a54b70",
   "metadata": {},
   "source": [
    "# COMPARAR ANTES Y DESPUÉS TRANSFORMACION"
   ]
  },
  {
   "cell_type": "code",
   "execution_count": null,
   "id": "fdf75221-4130-4bac-b322-94b02a32460b",
   "metadata": {},
   "outputs": [],
   "source": [
    "#Generar transformacion TAMAÑO\n",
    "datos_entrenamiento_transformados_zoom = transformacion_zoom(datos_entrenamiento[38],etiquetas_entrenamiento[38])[0]\n",
    "etiquetas_entrenamiento_transformados_zoom = etiquetas_entrenamiento\n",
    "\n",
    "#Generar transformacion TRANSLACION EJE X\n",
    "datos_entrenamiento_transformados_translacionX = desplazar_posesX(datos_entrenamiento[5],etiquetas_entrenamiento[5])[0]\n",
    "etiquetas_entrenamiento_transformados_translacionX = etiquetas_entrenamiento\n",
    "#\n",
    "##Generar transformacion TRANSLACION EJE Y\n",
    "datos_entrenamiento_transformados_translacionY = desplazar_posesY(datos_entrenamiento[5],etiquetas_entrenamiento[5])[0]\n",
    "etiquetas_entrenamiento_transformados_translacionY = etiquetas_entrenamiento\n",
    "#\n",
    "##Generar transformacion FLIP\n",
    "datos_entrenamiento_transformados_flip = flip_poses(datos_entrenamiento[5],etiquetas_entrenamiento[5])[0]\n",
    "etiquetas_entrenamiento_transformados_flip = invertir_etiquetas(etiquetas_entrenamiento)\n"
   ]
  },
  {
   "cell_type": "markdown",
   "id": "549e70a1-fe98-4399-aaef-2c9d901cd674",
   "metadata": {},
   "source": [
    "# VALIDAR TRANSFORMACIONES"
   ]
  },
  {
   "cell_type": "code",
   "execution_count": null,
   "id": "ff0805bb-5030-4827-aac6-c8e56a1277af",
   "metadata": {},
   "outputs": [],
   "source": [
    "# ZOOM\n",
    "validacionZoom(datos_entrenamiento,etiquetas_entrenamiento)"
   ]
  },
  {
   "cell_type": "code",
   "execution_count": null,
   "id": "84bfbdd6",
   "metadata": {},
   "outputs": [],
   "source": [
    "# TRANSLACION X\n",
    "validacionX(datos_entrenamiento,etiquetas_entrenamiento)"
   ]
  },
  {
   "cell_type": "code",
   "execution_count": null,
   "id": "a2c6074a",
   "metadata": {},
   "outputs": [],
   "source": [
    "# TRANSLACION Y\n",
    "validacionX(datos_entrenamiento,etiquetas_entrenamiento)"
   ]
  },
  {
   "cell_type": "code",
   "execution_count": null,
   "id": "018737a2",
   "metadata": {},
   "outputs": [],
   "source": [
    "# FLIP\n",
    "validacionFlip(datos_entrenamiento,etiquetas_entrenamiento)"
   ]
  },
  {
   "cell_type": "markdown",
   "id": "80ddeedd-1662-44af-8e5a-fd8efbd07071",
   "metadata": {},
   "source": [
    "# VER TENSORES TRANSFORMADOS"
   ]
  },
  {
   "cell_type": "code",
   "execution_count": null,
   "id": "e649d8a2",
   "metadata": {},
   "outputs": [],
   "source": [
    "from gifComparaTransformado import *\n",
    "from generar_gif import gif\n",
    "from IPython.display import Image\n",
    "\n",
    "\n",
    "unir_gifs(gif(datos_entrenamiento[38]), gif(datos_entrenamiento_transformados_zoom), \"resultadoZoom.gif\")\n",
    "\n",
    "Image(\"resultadoZoom.gif\")\n"
   ]
  },
  {
   "cell_type": "code",
   "execution_count": null,
   "id": "5b958b44-5574-49c9-b20f-03f9eb3ba3f0",
   "metadata": {},
   "outputs": [],
   "source": [
    "print(datos_entrenamiento[5])\n",
    "print((datos_entrenamiento[5])-(datos_entrenamiento_transformados_zoom))"
   ]
  },
  {
   "cell_type": "code",
   "execution_count": null,
   "id": "679fbf8c",
   "metadata": {},
   "outputs": [],
   "source": [
    "from gifComparaTransformado import *\n",
    "from generar_gif import gif\n",
    "from IPython.display import Image\n",
    "\n",
    "unir_gifs(gif(datos_entrenamiento[5]), gif(datos_entrenamiento_transformados_translacionX), \"resultadoX.gif\")\n",
    "\n",
    "Image(\"resultadoX.gif\")"
   ]
  },
  {
   "cell_type": "code",
   "execution_count": null,
   "id": "7c44f5f8-f3d0-4abc-831d-4f1e5cd7a46c",
   "metadata": {},
   "outputs": [],
   "source": [
    "from gifComparaTransformado import *\n",
    "from generar_gif import gif\n",
    "from IPython.display import Image\n",
    "\n",
    "unir_gifs(gif(datos_entrenamiento[5]), gif(datos_entrenamiento_transformados_translacionY), \"resultadoY.gif\")\n",
    "\n",
    "Image(\"resultadoY.gif\")"
   ]
  },
  {
   "cell_type": "code",
   "execution_count": null,
   "id": "d22ffc07",
   "metadata": {},
   "outputs": [],
   "source": [
    "from gifComparaTransformado import *\n",
    "from generar_gif import *\n",
    "\n",
    "from IPython.display import Image\n",
    "\n",
    "\n",
    "unir_gifs(gif(datos_entrenamiento[5]), gif(datos_entrenamiento_transformados_flip), \"resultadoFlip.gif\")\n",
    "\n",
    "Image(\"resultadoFlip.gif\")"
   ]
  },
  {
   "cell_type": "markdown",
   "id": "1a2178ef-aba3-4dff-87a2-36618050d04c",
   "metadata": {
    "jp-MarkdownHeadingCollapsed": true
   },
   "source": [
    "# VER LOGS"
   ]
  },
  {
   "cell_type": "code",
   "execution_count": null,
   "id": "5595a92e-0e20-4e01-be23-867d58c3cee6",
   "metadata": {},
   "outputs": [],
   "source": [
    "#%load_ext tensorboard\n",
    "%reload_ext tensorboard\n",
    "%tensorboard --logdir logs/fino --port 6457"
   ]
  },
  {
   "cell_type": "markdown",
   "id": "97fc67fc-2518-43fd-8be5-5ec87d6afc82",
   "metadata": {},
   "source": [
    "# ENTRENAR OPTUNA"
   ]
  },
  {
   "cell_type": "code",
   "execution_count": 2,
   "id": "7abe3f65-cedb-4ef8-bcfb-219bd3c1e05e",
   "metadata": {},
   "outputs": [
    {
     "name": "stderr",
     "output_type": "stream",
     "text": [
      "[I 2024-04-15 21:54:23,691] A new study created in memory with name: no-name-95e7565d-a688-47b8-822c-556b53364f12\n",
      "Trial 0/ 1: 100%|██████████| 5/5 [01:11<00:00, 14.21s/epoch]\n",
      "[I 2024-04-15 21:55:36,073] Trial 0 finished with value: 0.4982668977469671 and parameters: {'learning_rate': 2.1414769169443658e-06, 'lstm_units': 1183, 'dense_units': 1118, 'dropout_rate': 0.20774258752617092}. Best is trial 0 with value: 0.4982668977469671.\n"
     ]
    }
   ],
   "source": [
    "# Luego, puedes utilizar los DataLoader en las funciones train_with_optuna y train_final_model\n",
    "from CustomDataset import *\n",
    "study = train_with_optuna(datos_entrenamiento, etiquetas_entrenamiento, datos_validacion, etiquetas_validacion, num_trials=1, num_epochs=5, batch_size=128)\n",
    "\n",
    "\n",
    "# Luego, entrenamos el modelo final con los mejores parámetros encontrados por Optuna\n"
   ]
  },
  {
   "cell_type": "markdown",
   "id": "798ee201-5c58-4869-a110-eedccb30dcc5",
   "metadata": {},
   "source": [
    "# ENTRENAR FINAL"
   ]
  },
  {
   "cell_type": "code",
   "execution_count": null,
   "id": "334b52c8-b2b1-4c4d-9995-66c1e7dabbd5",
   "metadata": {},
   "outputs": [],
   "source": [
    "print(study.best_trial.params)"
   ]
  },
  {
   "cell_type": "code",
   "execution_count": null,
   "id": "fb4cead6",
   "metadata": {},
   "outputs": [
    {
     "name": "stderr",
     "output_type": "stream",
     "text": [
      "Final Training:   1%|          | 1/100 [00:14<23:43, 14.38s/epoch]"
     ]
    },
    {
     "name": "stdout",
     "output_type": "stream",
     "text": [
      "Epoch 1/100: Train Loss: 0.6932, Train Acc: 0.5043, Val Loss: 0.6930, Val Acc: 0.5130\n"
     ]
    },
    {
     "name": "stderr",
     "output_type": "stream",
     "text": [
      "Final Training:   2%|▏         | 2/100 [00:28<23:23, 14.33s/epoch]"
     ]
    },
    {
     "name": "stdout",
     "output_type": "stream",
     "text": [
      "Epoch 2/100: Train Loss: 0.6934, Train Acc: 0.4888, Val Loss: 0.6933, Val Acc: 0.4944\n"
     ]
    },
    {
     "name": "stderr",
     "output_type": "stream",
     "text": [
      "Final Training:   3%|▎         | 3/100 [00:43<23:13, 14.37s/epoch]"
     ]
    },
    {
     "name": "stdout",
     "output_type": "stream",
     "text": [
      "Epoch 3/100: Train Loss: 0.6932, Train Acc: 0.4957, Val Loss: 0.6932, Val Acc: 0.4970\n"
     ]
    },
    {
     "name": "stderr",
     "output_type": "stream",
     "text": [
      "Final Training:   4%|▍         | 4/100 [00:58<23:32, 14.72s/epoch]"
     ]
    },
    {
     "name": "stdout",
     "output_type": "stream",
     "text": [
      "Epoch 4/100: Train Loss: 0.6932, Train Acc: 0.4982, Val Loss: 0.6932, Val Acc: 0.4978\n"
     ]
    },
    {
     "name": "stderr",
     "output_type": "stream",
     "text": [
      "Final Training:   5%|▌         | 5/100 [01:13<23:25, 14.80s/epoch]"
     ]
    },
    {
     "name": "stdout",
     "output_type": "stream",
     "text": [
      "Epoch 5/100: Train Loss: 0.6932, Train Acc: 0.4997, Val Loss: 0.6931, Val Acc: 0.5052\n"
     ]
    },
    {
     "name": "stderr",
     "output_type": "stream",
     "text": [
      "Final Training:   6%|▌         | 6/100 [01:28<23:17, 14.87s/epoch]"
     ]
    },
    {
     "name": "stdout",
     "output_type": "stream",
     "text": [
      "Epoch 6/100: Train Loss: 0.6932, Train Acc: 0.4993, Val Loss: 0.6933, Val Acc: 0.4996\n"
     ]
    },
    {
     "name": "stderr",
     "output_type": "stream",
     "text": [
      "Final Training:   7%|▋         | 7/100 [01:43<23:17, 15.03s/epoch]"
     ]
    },
    {
     "name": "stdout",
     "output_type": "stream",
     "text": [
      "Epoch 7/100: Train Loss: 0.6932, Train Acc: 0.5006, Val Loss: 0.6931, Val Acc: 0.5134\n"
     ]
    },
    {
     "name": "stderr",
     "output_type": "stream",
     "text": [
      "Final Training:   8%|▊         | 8/100 [01:58<22:59, 15.00s/epoch]"
     ]
    },
    {
     "name": "stdout",
     "output_type": "stream",
     "text": [
      "Epoch 8/100: Train Loss: 0.6931, Train Acc: 0.5036, Val Loss: 0.6931, Val Acc: 0.5074\n"
     ]
    },
    {
     "name": "stderr",
     "output_type": "stream",
     "text": [
      "Final Training:   9%|▉         | 9/100 [02:13<22:33, 14.88s/epoch]"
     ]
    },
    {
     "name": "stdout",
     "output_type": "stream",
     "text": [
      "Epoch 9/100: Train Loss: 0.6932, Train Acc: 0.5019, Val Loss: 0.6934, Val Acc: 0.4861\n"
     ]
    },
    {
     "name": "stderr",
     "output_type": "stream",
     "text": [
      "Final Training:  10%|█         | 10/100 [02:27<22:08, 14.76s/epoch]"
     ]
    },
    {
     "name": "stdout",
     "output_type": "stream",
     "text": [
      "Epoch 10/100: Train Loss: 0.6932, Train Acc: 0.4987, Val Loss: 0.6933, Val Acc: 0.4874\n"
     ]
    },
    {
     "name": "stderr",
     "output_type": "stream",
     "text": [
      "Final Training:  11%|█         | 11/100 [02:42<21:49, 14.71s/epoch]"
     ]
    },
    {
     "name": "stdout",
     "output_type": "stream",
     "text": [
      "Epoch 11/100: Train Loss: 0.6932, Train Acc: 0.4982, Val Loss: 0.6932, Val Acc: 0.4996\n"
     ]
    },
    {
     "name": "stderr",
     "output_type": "stream",
     "text": [
      "Final Training:  12%|█▏        | 12/100 [02:56<21:25, 14.61s/epoch]"
     ]
    },
    {
     "name": "stdout",
     "output_type": "stream",
     "text": [
      "Epoch 12/100: Train Loss: 0.6931, Train Acc: 0.5026, Val Loss: 0.6931, Val Acc: 0.5039\n"
     ]
    },
    {
     "name": "stderr",
     "output_type": "stream",
     "text": [
      "Final Training:  13%|█▎        | 13/100 [03:10<21:03, 14.52s/epoch]"
     ]
    },
    {
     "name": "stdout",
     "output_type": "stream",
     "text": [
      "Epoch 13/100: Train Loss: 0.6931, Train Acc: 0.5013, Val Loss: 0.6932, Val Acc: 0.5039\n"
     ]
    },
    {
     "name": "stderr",
     "output_type": "stream",
     "text": [
      "Final Training:  14%|█▍        | 14/100 [03:25<20:52, 14.56s/epoch]"
     ]
    },
    {
     "name": "stdout",
     "output_type": "stream",
     "text": [
      "Epoch 14/100: Train Loss: 0.6932, Train Acc: 0.4974, Val Loss: 0.6931, Val Acc: 0.4948\n"
     ]
    },
    {
     "name": "stderr",
     "output_type": "stream",
     "text": [
      "Final Training:  15%|█▌        | 15/100 [03:40<20:34, 14.53s/epoch]"
     ]
    },
    {
     "name": "stdout",
     "output_type": "stream",
     "text": [
      "Epoch 15/100: Train Loss: 0.6932, Train Acc: 0.4919, Val Loss: 0.6931, Val Acc: 0.5078\n"
     ]
    },
    {
     "name": "stderr",
     "output_type": "stream",
     "text": [
      "Final Training:  16%|█▌        | 16/100 [03:54<20:14, 14.46s/epoch]"
     ]
    },
    {
     "name": "stdout",
     "output_type": "stream",
     "text": [
      "Epoch 16/100: Train Loss: 0.6931, Train Acc: 0.5041, Val Loss: 0.6932, Val Acc: 0.5004\n"
     ]
    },
    {
     "name": "stderr",
     "output_type": "stream",
     "text": [
      "Final Training:  17%|█▋        | 17/100 [04:08<19:56, 14.42s/epoch]"
     ]
    },
    {
     "name": "stdout",
     "output_type": "stream",
     "text": [
      "Epoch 17/100: Train Loss: 0.6931, Train Acc: 0.5054, Val Loss: 0.6932, Val Acc: 0.4983\n"
     ]
    },
    {
     "name": "stderr",
     "output_type": "stream",
     "text": [
      "Final Training:  18%|█▊        | 18/100 [04:23<20:01, 14.65s/epoch]"
     ]
    },
    {
     "name": "stdout",
     "output_type": "stream",
     "text": [
      "Epoch 18/100: Train Loss: 0.6931, Train Acc: 0.5053, Val Loss: 0.6934, Val Acc: 0.4861\n"
     ]
    },
    {
     "name": "stderr",
     "output_type": "stream",
     "text": [
      "Final Training:  19%|█▉        | 19/100 [04:38<19:47, 14.66s/epoch]"
     ]
    },
    {
     "name": "stdout",
     "output_type": "stream",
     "text": [
      "Epoch 19/100: Train Loss: 0.6931, Train Acc: 0.4998, Val Loss: 0.6931, Val Acc: 0.5100\n"
     ]
    },
    {
     "name": "stderr",
     "output_type": "stream",
     "text": [
      "Final Training:  20%|██        | 20/100 [04:53<19:36, 14.71s/epoch]"
     ]
    },
    {
     "name": "stdout",
     "output_type": "stream",
     "text": [
      "Epoch 20/100: Train Loss: 0.6932, Train Acc: 0.5036, Val Loss: 0.6935, Val Acc: 0.4922\n"
     ]
    },
    {
     "name": "stderr",
     "output_type": "stream",
     "text": [
      "Final Training:  21%|██        | 21/100 [05:08<19:20, 14.69s/epoch]"
     ]
    },
    {
     "name": "stdout",
     "output_type": "stream",
     "text": [
      "Epoch 21/100: Train Loss: 0.6933, Train Acc: 0.4880, Val Loss: 0.6930, Val Acc: 0.5143\n"
     ]
    },
    {
     "name": "stderr",
     "output_type": "stream",
     "text": [
      "Final Training:  22%|██▏       | 22/100 [05:22<19:06, 14.70s/epoch]"
     ]
    },
    {
     "name": "stdout",
     "output_type": "stream",
     "text": [
      "Epoch 22/100: Train Loss: 0.6933, Train Acc: 0.4941, Val Loss: 0.6932, Val Acc: 0.4961\n"
     ]
    },
    {
     "name": "stderr",
     "output_type": "stream",
     "text": [
      "Final Training:  23%|██▎       | 23/100 [05:37<18:50, 14.68s/epoch]"
     ]
    },
    {
     "name": "stdout",
     "output_type": "stream",
     "text": [
      "Epoch 23/100: Train Loss: 0.6932, Train Acc: 0.4979, Val Loss: 0.6931, Val Acc: 0.5030\n"
     ]
    },
    {
     "name": "stderr",
     "output_type": "stream",
     "text": [
      "Final Training:  24%|██▍       | 24/100 [05:52<18:37, 14.70s/epoch]"
     ]
    },
    {
     "name": "stdout",
     "output_type": "stream",
     "text": [
      "Epoch 24/100: Train Loss: 0.6933, Train Acc: 0.4978, Val Loss: 0.6931, Val Acc: 0.4957\n"
     ]
    },
    {
     "name": "stderr",
     "output_type": "stream",
     "text": [
      "Final Training:  25%|██▌       | 25/100 [06:06<18:24, 14.72s/epoch]"
     ]
    },
    {
     "name": "stdout",
     "output_type": "stream",
     "text": [
      "Epoch 25/100: Train Loss: 0.6933, Train Acc: 0.4973, Val Loss: 0.6932, Val Acc: 0.5009\n"
     ]
    },
    {
     "name": "stderr",
     "output_type": "stream",
     "text": [
      "Final Training:  26%|██▌       | 26/100 [06:22<18:25, 14.94s/epoch]"
     ]
    },
    {
     "name": "stdout",
     "output_type": "stream",
     "text": [
      "Epoch 26/100: Train Loss: 0.6931, Train Acc: 0.5039, Val Loss: 0.6930, Val Acc: 0.5152\n"
     ]
    },
    {
     "name": "stderr",
     "output_type": "stream",
     "text": [
      "Final Training:  27%|██▋       | 27/100 [06:38<18:32, 15.23s/epoch]"
     ]
    },
    {
     "name": "stdout",
     "output_type": "stream",
     "text": [
      "Epoch 27/100: Train Loss: 0.6931, Train Acc: 0.5015, Val Loss: 0.6932, Val Acc: 0.4996\n"
     ]
    },
    {
     "name": "stderr",
     "output_type": "stream",
     "text": [
      "Final Training:  28%|██▊       | 28/100 [06:53<18:19, 15.27s/epoch]"
     ]
    },
    {
     "name": "stdout",
     "output_type": "stream",
     "text": [
      "Epoch 28/100: Train Loss: 0.6932, Train Acc: 0.4962, Val Loss: 0.6932, Val Acc: 0.4974\n"
     ]
    },
    {
     "name": "stderr",
     "output_type": "stream",
     "text": [
      "Final Training:  29%|██▉       | 29/100 [07:08<17:56, 15.16s/epoch]"
     ]
    },
    {
     "name": "stdout",
     "output_type": "stream",
     "text": [
      "Epoch 29/100: Train Loss: 0.6932, Train Acc: 0.5002, Val Loss: 0.6931, Val Acc: 0.5160\n"
     ]
    },
    {
     "name": "stderr",
     "output_type": "stream",
     "text": [
      "Final Training:  30%|███       | 30/100 [07:24<17:48, 15.26s/epoch]"
     ]
    },
    {
     "name": "stdout",
     "output_type": "stream",
     "text": [
      "Epoch 30/100: Train Loss: 0.6931, Train Acc: 0.5014, Val Loss: 0.6932, Val Acc: 0.4926\n"
     ]
    },
    {
     "name": "stderr",
     "output_type": "stream",
     "text": [
      "Final Training:  31%|███       | 31/100 [07:39<17:40, 15.37s/epoch]"
     ]
    },
    {
     "name": "stdout",
     "output_type": "stream",
     "text": [
      "Epoch 31/100: Train Loss: 0.6932, Train Acc: 0.4972, Val Loss: 0.6931, Val Acc: 0.5039\n"
     ]
    },
    {
     "name": "stderr",
     "output_type": "stream",
     "text": [
      "Final Training:  32%|███▏      | 32/100 [07:54<17:21, 15.31s/epoch]"
     ]
    },
    {
     "name": "stdout",
     "output_type": "stream",
     "text": [
      "Epoch 32/100: Train Loss: 0.6931, Train Acc: 0.5068, Val Loss: 0.6931, Val Acc: 0.5013\n"
     ]
    },
    {
     "name": "stderr",
     "output_type": "stream",
     "text": [
      "Final Training:  33%|███▎      | 33/100 [08:10<17:03, 15.28s/epoch]"
     ]
    },
    {
     "name": "stdout",
     "output_type": "stream",
     "text": [
      "Epoch 33/100: Train Loss: 0.6931, Train Acc: 0.5028, Val Loss: 0.6932, Val Acc: 0.5000\n"
     ]
    },
    {
     "name": "stderr",
     "output_type": "stream",
     "text": [
      "Final Training:  34%|███▍      | 34/100 [08:25<16:45, 15.23s/epoch]"
     ]
    },
    {
     "name": "stdout",
     "output_type": "stream",
     "text": [
      "Epoch 34/100: Train Loss: 0.6932, Train Acc: 0.5002, Val Loss: 0.6930, Val Acc: 0.5143\n"
     ]
    },
    {
     "name": "stderr",
     "output_type": "stream",
     "text": [
      "Final Training:  35%|███▌      | 35/100 [08:41<16:42, 15.42s/epoch]"
     ]
    },
    {
     "name": "stdout",
     "output_type": "stream",
     "text": [
      "Epoch 35/100: Train Loss: 0.6932, Train Acc: 0.4983, Val Loss: 0.6932, Val Acc: 0.4961\n"
     ]
    },
    {
     "name": "stderr",
     "output_type": "stream",
     "text": [
      "Final Training:  36%|███▌      | 36/100 [08:58<17:01, 15.95s/epoch]"
     ]
    },
    {
     "name": "stdout",
     "output_type": "stream",
     "text": [
      "Epoch 36/100: Train Loss: 0.6932, Train Acc: 0.5006, Val Loss: 0.6930, Val Acc: 0.5095\n"
     ]
    },
    {
     "name": "stderr",
     "output_type": "stream",
     "text": [
      "Final Training:  37%|███▋      | 37/100 [09:14<16:43, 15.92s/epoch]"
     ]
    },
    {
     "name": "stdout",
     "output_type": "stream",
     "text": [
      "Epoch 37/100: Train Loss: 0.6931, Train Acc: 0.5038, Val Loss: 0.6931, Val Acc: 0.5009\n"
     ]
    },
    {
     "name": "stderr",
     "output_type": "stream",
     "text": [
      "Final Training:  38%|███▊      | 38/100 [09:30<16:32, 16.01s/epoch]"
     ]
    },
    {
     "name": "stdout",
     "output_type": "stream",
     "text": [
      "Epoch 38/100: Train Loss: 0.6932, Train Acc: 0.4988, Val Loss: 0.6932, Val Acc: 0.4896\n"
     ]
    },
    {
     "name": "stderr",
     "output_type": "stream",
     "text": [
      "Final Training:  39%|███▉      | 39/100 [09:46<16:16, 16.01s/epoch]"
     ]
    },
    {
     "name": "stdout",
     "output_type": "stream",
     "text": [
      "Epoch 39/100: Train Loss: 0.6931, Train Acc: 0.5007, Val Loss: 0.6932, Val Acc: 0.4957\n"
     ]
    },
    {
     "name": "stderr",
     "output_type": "stream",
     "text": [
      "Final Training:  40%|████      | 40/100 [10:03<16:17, 16.30s/epoch]"
     ]
    },
    {
     "name": "stdout",
     "output_type": "stream",
     "text": [
      "Epoch 40/100: Train Loss: 0.6932, Train Acc: 0.5031, Val Loss: 0.6932, Val Acc: 0.5022\n"
     ]
    },
    {
     "name": "stderr",
     "output_type": "stream",
     "text": [
      "Final Training:  41%|████      | 41/100 [10:19<16:04, 16.34s/epoch]"
     ]
    },
    {
     "name": "stdout",
     "output_type": "stream",
     "text": [
      "Epoch 41/100: Train Loss: 0.6932, Train Acc: 0.4953, Val Loss: 0.6932, Val Acc: 0.5048\n"
     ]
    },
    {
     "name": "stderr",
     "output_type": "stream",
     "text": [
      "Final Training:  42%|████▏     | 42/100 [10:34<15:24, 15.94s/epoch]"
     ]
    },
    {
     "name": "stdout",
     "output_type": "stream",
     "text": [
      "Epoch 42/100: Train Loss: 0.6932, Train Acc: 0.4970, Val Loss: 0.6931, Val Acc: 0.4931\n"
     ]
    },
    {
     "name": "stderr",
     "output_type": "stream",
     "text": [
      "Final Training:  43%|████▎     | 43/100 [10:49<14:42, 15.49s/epoch]"
     ]
    },
    {
     "name": "stdout",
     "output_type": "stream",
     "text": [
      "Epoch 43/100: Train Loss: 0.6933, Train Acc: 0.4980, Val Loss: 0.6932, Val Acc: 0.4983\n"
     ]
    },
    {
     "name": "stderr",
     "output_type": "stream",
     "text": [
      "Final Training:  44%|████▍     | 44/100 [11:03<14:10, 15.18s/epoch]"
     ]
    },
    {
     "name": "stdout",
     "output_type": "stream",
     "text": [
      "Epoch 44/100: Train Loss: 0.6931, Train Acc: 0.5032, Val Loss: 0.6932, Val Acc: 0.4952\n"
     ]
    },
    {
     "name": "stderr",
     "output_type": "stream",
     "text": [
      "Final Training:  45%|████▌     | 45/100 [11:18<13:42, 14.96s/epoch]"
     ]
    },
    {
     "name": "stdout",
     "output_type": "stream",
     "text": [
      "Epoch 45/100: Train Loss: 0.6932, Train Acc: 0.4944, Val Loss: 0.6931, Val Acc: 0.5065\n"
     ]
    },
    {
     "name": "stderr",
     "output_type": "stream",
     "text": [
      "Final Training:  46%|████▌     | 46/100 [11:32<13:19, 14.80s/epoch]"
     ]
    },
    {
     "name": "stdout",
     "output_type": "stream",
     "text": [
      "Epoch 46/100: Train Loss: 0.6931, Train Acc: 0.4993, Val Loss: 0.6932, Val Acc: 0.4939\n"
     ]
    },
    {
     "name": "stderr",
     "output_type": "stream",
     "text": [
      "Final Training:  47%|████▋     | 47/100 [11:47<13:00, 14.72s/epoch]"
     ]
    },
    {
     "name": "stdout",
     "output_type": "stream",
     "text": [
      "Epoch 47/100: Train Loss: 0.6932, Train Acc: 0.5019, Val Loss: 0.6930, Val Acc: 0.5186\n"
     ]
    },
    {
     "name": "stderr",
     "output_type": "stream",
     "text": [
      "Final Training:  48%|████▊     | 48/100 [12:01<12:43, 14.68s/epoch]"
     ]
    },
    {
     "name": "stdout",
     "output_type": "stream",
     "text": [
      "Epoch 48/100: Train Loss: 0.6932, Train Acc: 0.4952, Val Loss: 0.6931, Val Acc: 0.5091\n"
     ]
    },
    {
     "name": "stderr",
     "output_type": "stream",
     "text": [
      "Final Training:  49%|████▉     | 49/100 [12:16<12:24, 14.60s/epoch]"
     ]
    },
    {
     "name": "stdout",
     "output_type": "stream",
     "text": [
      "Epoch 49/100: Train Loss: 0.6931, Train Acc: 0.5006, Val Loss: 0.6931, Val Acc: 0.5043\n"
     ]
    },
    {
     "name": "stderr",
     "output_type": "stream",
     "text": [
      "Final Training:  50%|█████     | 50/100 [12:30<12:09, 14.59s/epoch]"
     ]
    },
    {
     "name": "stdout",
     "output_type": "stream",
     "text": [
      "Epoch 50/100: Train Loss: 0.6932, Train Acc: 0.4967, Val Loss: 0.6932, Val Acc: 0.4905\n"
     ]
    },
    {
     "name": "stderr",
     "output_type": "stream",
     "text": [
      "Final Training:  51%|█████     | 51/100 [12:45<11:55, 14.59s/epoch]"
     ]
    },
    {
     "name": "stdout",
     "output_type": "stream",
     "text": [
      "Epoch 51/100: Train Loss: 0.6931, Train Acc: 0.5009, Val Loss: 0.6931, Val Acc: 0.5121\n"
     ]
    },
    {
     "name": "stderr",
     "output_type": "stream",
     "text": [
      "Final Training:  52%|█████▏    | 52/100 [12:59<11:39, 14.57s/epoch]"
     ]
    },
    {
     "name": "stdout",
     "output_type": "stream",
     "text": [
      "Epoch 52/100: Train Loss: 0.6931, Train Acc: 0.5020, Val Loss: 0.6930, Val Acc: 0.5126\n"
     ]
    },
    {
     "name": "stderr",
     "output_type": "stream",
     "text": [
      "Final Training:  53%|█████▎    | 53/100 [13:14<11:24, 14.57s/epoch]"
     ]
    },
    {
     "name": "stdout",
     "output_type": "stream",
     "text": [
      "Epoch 53/100: Train Loss: 0.6932, Train Acc: 0.4959, Val Loss: 0.6933, Val Acc: 0.4896\n"
     ]
    },
    {
     "name": "stderr",
     "output_type": "stream",
     "text": [
      "Final Training:  54%|█████▍    | 54/100 [13:28<11:07, 14.52s/epoch]"
     ]
    },
    {
     "name": "stdout",
     "output_type": "stream",
     "text": [
      "Epoch 54/100: Train Loss: 0.6931, Train Acc: 0.4970, Val Loss: 0.6932, Val Acc: 0.5013\n"
     ]
    },
    {
     "name": "stderr",
     "output_type": "stream",
     "text": [
      "Final Training:  55%|█████▌    | 55/100 [13:43<10:54, 14.55s/epoch]"
     ]
    },
    {
     "name": "stdout",
     "output_type": "stream",
     "text": [
      "Epoch 55/100: Train Loss: 0.6932, Train Acc: 0.5060, Val Loss: 0.6933, Val Acc: 0.4926\n"
     ]
    },
    {
     "name": "stderr",
     "output_type": "stream",
     "text": [
      "Final Training:  56%|█████▌    | 56/100 [13:57<10:38, 14.50s/epoch]"
     ]
    },
    {
     "name": "stdout",
     "output_type": "stream",
     "text": [
      "Epoch 56/100: Train Loss: 0.6931, Train Acc: 0.5052, Val Loss: 0.6930, Val Acc: 0.5234\n"
     ]
    },
    {
     "name": "stderr",
     "output_type": "stream",
     "text": [
      "Final Training:  57%|█████▋    | 57/100 [14:12<10:23, 14.49s/epoch]"
     ]
    },
    {
     "name": "stdout",
     "output_type": "stream",
     "text": [
      "Epoch 57/100: Train Loss: 0.6932, Train Acc: 0.5042, Val Loss: 0.6932, Val Acc: 0.4939\n"
     ]
    },
    {
     "name": "stderr",
     "output_type": "stream",
     "text": [
      "Final Training:  58%|█████▊    | 58/100 [14:26<10:07, 14.47s/epoch]"
     ]
    },
    {
     "name": "stdout",
     "output_type": "stream",
     "text": [
      "Epoch 58/100: Train Loss: 0.6930, Train Acc: 0.5094, Val Loss: 0.6931, Val Acc: 0.5078\n"
     ]
    },
    {
     "name": "stderr",
     "output_type": "stream",
     "text": [
      "Final Training:  59%|█████▉    | 59/100 [14:41<09:54, 14.51s/epoch]"
     ]
    },
    {
     "name": "stdout",
     "output_type": "stream",
     "text": [
      "Epoch 59/100: Train Loss: 0.6932, Train Acc: 0.5009, Val Loss: 0.6935, Val Acc: 0.4887\n"
     ]
    },
    {
     "name": "stderr",
     "output_type": "stream",
     "text": [
      "Final Training:  60%|██████    | 60/100 [14:56<09:45, 14.64s/epoch]"
     ]
    },
    {
     "name": "stdout",
     "output_type": "stream",
     "text": [
      "Epoch 60/100: Train Loss: 0.6932, Train Acc: 0.5035, Val Loss: 0.6932, Val Acc: 0.5043\n"
     ]
    },
    {
     "name": "stderr",
     "output_type": "stream",
     "text": [
      "Final Training:  61%|██████    | 61/100 [15:11<09:34, 14.72s/epoch]"
     ]
    },
    {
     "name": "stdout",
     "output_type": "stream",
     "text": [
      "Epoch 61/100: Train Loss: 0.6932, Train Acc: 0.4975, Val Loss: 0.6932, Val Acc: 0.4974\n"
     ]
    },
    {
     "name": "stderr",
     "output_type": "stream",
     "text": [
      "Final Training:  62%|██████▏   | 62/100 [15:26<09:28, 14.97s/epoch]"
     ]
    },
    {
     "name": "stdout",
     "output_type": "stream",
     "text": [
      "Epoch 62/100: Train Loss: 0.6932, Train Acc: 0.4970, Val Loss: 0.6932, Val Acc: 0.4957\n"
     ]
    },
    {
     "name": "stderr",
     "output_type": "stream",
     "text": [
      "Final Training:  63%|██████▎   | 63/100 [15:41<09:12, 14.95s/epoch]"
     ]
    },
    {
     "name": "stdout",
     "output_type": "stream",
     "text": [
      "Epoch 63/100: Train Loss: 0.6931, Train Acc: 0.5018, Val Loss: 0.6932, Val Acc: 0.4939\n"
     ]
    },
    {
     "name": "stderr",
     "output_type": "stream",
     "text": [
      "Final Training:  64%|██████▍   | 64/100 [15:56<08:58, 14.97s/epoch]"
     ]
    },
    {
     "name": "stdout",
     "output_type": "stream",
     "text": [
      "Epoch 64/100: Train Loss: 0.6932, Train Acc: 0.5006, Val Loss: 0.6931, Val Acc: 0.5022\n"
     ]
    },
    {
     "name": "stderr",
     "output_type": "stream",
     "text": [
      "Final Training:  65%|██████▌   | 65/100 [16:11<08:43, 14.95s/epoch]"
     ]
    },
    {
     "name": "stdout",
     "output_type": "stream",
     "text": [
      "Epoch 65/100: Train Loss: 0.6932, Train Acc: 0.5016, Val Loss: 0.6931, Val Acc: 0.5039\n"
     ]
    },
    {
     "name": "stderr",
     "output_type": "stream",
     "text": [
      "Final Training:  66%|██████▌   | 66/100 [16:26<08:29, 14.97s/epoch]"
     ]
    },
    {
     "name": "stdout",
     "output_type": "stream",
     "text": [
      "Epoch 66/100: Train Loss: 0.6932, Train Acc: 0.5027, Val Loss: 0.6931, Val Acc: 0.4983\n"
     ]
    },
    {
     "name": "stderr",
     "output_type": "stream",
     "text": [
      "Final Training:  67%|██████▋   | 67/100 [16:41<08:17, 15.07s/epoch]"
     ]
    },
    {
     "name": "stdout",
     "output_type": "stream",
     "text": [
      "Epoch 67/100: Train Loss: 0.6932, Train Acc: 0.4971, Val Loss: 0.6931, Val Acc: 0.5069\n"
     ]
    }
   ],
   "source": [
    "model, accuracy = train_final_model(datos_entrenamiento, etiquetas_entrenamiento, datos_validacion, etiquetas_validacion,  study, num_epochs=100, batch_size=128)\n"
   ]
  }
 ],
 "metadata": {
  "kernelspec": {
   "display_name": "Python 3 (ipykernel)",
   "language": "python",
   "name": "python3"
  },
  "language_info": {
   "codemirror_mode": {
    "name": "ipython",
    "version": 3
   },
   "file_extension": ".py",
   "mimetype": "text/x-python",
   "name": "python",
   "nbconvert_exporter": "python",
   "pygments_lexer": "ipython3",
   "version": "3.9.19"
  }
 },
 "nbformat": 4,
 "nbformat_minor": 5
}
