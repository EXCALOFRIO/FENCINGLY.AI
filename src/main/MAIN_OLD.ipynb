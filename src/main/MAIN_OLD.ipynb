{
 "cells": [
  {
   "cell_type": "code",
   "execution_count": null,
   "id": "5789ec0a",
   "metadata": {},
   "outputs": [],
   "source": [
    "!nvidia-smi"
   ]
  },
  {
   "cell_type": "code",
   "execution_count": null,
   "id": "b80652d7",
   "metadata": {},
   "outputs": [],
   "source": [
    "from custom_transforms import *\n",
    "from dataset import *\n",
    "\n",
    "\n",
    "izquierda_dir = r\"C:/Users/Alejandro/TFG_ENTRENAMIENTO/JSON_FORMADOS/IZQUIERDA_NORMALIZADO - copia\"\n",
    "derecha_dir = r\"C:/Users/Alejandro/TFG_ENTRENAMIENTO/JSON_FORMADOS/DERECHA_NORMALIZADO - copia\"\n",
    "\n",
    "porcentaje_entrenamiento = 0.70\n",
    "porcentaje_validacion = 0.15\n",
    "porcentaje_prueba = 0.15\n",
    "\n",
    "datos_entrenamiento, datos_validacion, datos_prueba, etiquetas_entrenamiento, etiquetas_validacion, etiquetas_prueba = cargar_y_preparar_datos(izquierda_dir, derecha_dir, porcentaje_entrenamiento, porcentaje_validacion, porcentaje_prueba)"
   ]
  },
  {
   "cell_type": "code",
   "execution_count": null,
   "id": "e15486db",
   "metadata": {},
   "outputs": [],
   "source": [
    "#Generar transformacion TAMAÑO\n",
    "datos_entrenamiento_transformados_zoom = transformacion_zoom(datos_entrenamiento)\n",
    "etiquetas_entrenamiento_transformados_zoom = etiquetas_entrenamiento\n",
    "\n",
    "#Generar transformacion TRANSLACION EJE X\n",
    "datos_entrenamiento_transformados_translacionX = desplazar_posesX(datos_entrenamiento)\n",
    "etiquetas_entrenamiento_transformados_translacionX = etiquetas_entrenamiento\n",
    "\n",
    "#Generar transformacion TRANSLACION EJE Y\n",
    "datos_entrenamiento_transformados_translacionY = desplazar_posesY(datos_entrenamiento)\n",
    "etiquetas_entrenamiento_transformados_translacionY = etiquetas_entrenamiento\n",
    "\n",
    "#Generar transformacion FLIP\n",
    "datos_entrenamiento_transformados_flip = flip_poses(datos_entrenamiento)\n",
    "etiquetas_entrenamiento_transformados_flip = invertir_etiquetas(etiquetas_entrenamiento)"
   ]
  },
  {
   "cell_type": "code",
   "execution_count": null,
   "id": "084d5c4d",
   "metadata": {},
   "outputs": [],
   "source": [
    "# ZOOM\n",
    "transformacion_dato(datos_entrenamiento, etiquetas_entrenamiento, datos_entrenamiento_transformados_zoom, etiquetas_entrenamiento_transformados_zoom)"
   ]
  },
  {
   "cell_type": "code",
   "execution_count": null,
   "id": "84bfbdd6",
   "metadata": {},
   "outputs": [],
   "source": [
    "# TRANSLACION X\n",
    "transformacion_dato(datos_entrenamiento, etiquetas_entrenamiento, datos_entrenamiento_transformados_translacionX, etiquetas_entrenamiento_transformados_translacionX)"
   ]
  },
  {
   "cell_type": "code",
   "execution_count": null,
   "id": "a2c6074a",
   "metadata": {},
   "outputs": [],
   "source": [
    "# TRANSLACION Y\n",
    "transformacion_dato(datos_entrenamiento, etiquetas_entrenamiento, datos_entrenamiento_transformados_translacionY, etiquetas_entrenamiento_transformados_translacionY)"
   ]
  },
  {
   "cell_type": "code",
   "execution_count": null,
   "id": "018737a2",
   "metadata": {},
   "outputs": [],
   "source": [
    "# FLIP\n",
    "transformacion_dato(datos_entrenamiento, etiquetas_entrenamiento, datos_entrenamiento_transformados_flip, etiquetas_entrenamiento_transformados_flip)"
   ]
  },
  {
   "cell_type": "code",
   "execution_count": null,
   "id": "74ad8d78",
   "metadata": {
    "scrolled": true
   },
   "outputs": [],
   "source": [
    "from gifComparaTransformado import *\n",
    "from generar_gif import gif\n",
    "from IPython.display import Image\n",
    "\n",
    "\n",
    "unir_gifs(gif(datos_entrenamiento[1]), gif(datos_entrenamiento_transformados_zoom[1]), \"resultado.gif\")\n",
    "\n",
    "Image(\"resultado.gif\")\n"
   ]
  },
  {
   "cell_type": "code",
   "execution_count": null,
   "id": "e649d8a2",
   "metadata": {},
   "outputs": [],
   "source": [
    "from gifComparaTransformado import *\n",
    "from generar_gif import gif\n",
    "from IPython.display import Image\n",
    "\n",
    "\n",
    "unir_gifs(gif(datos_entrenamiento[2]), gif(datos_entrenamiento_transformados_translacionX[2]), \"resultado.gif\")\n",
    "\n",
    "Image(\"resultado.gif\")\n"
   ]
  },
  {
   "cell_type": "code",
   "execution_count": null,
   "id": "679fbf8c",
   "metadata": {},
   "outputs": [],
   "source": [
    "from gifComparaTransformado import *\n",
    "from generar_gif import gif\n",
    "from IPython.display import Image\n",
    "\n",
    "\n",
    "unir_gifs(gif(datos_entrenamiento[2]), gif(datos_entrenamiento_transformados_translacionY[2]), \"resultado.gif\")\n",
    "\n",
    "Image(\"resultado.gif\")\n"
   ]
  },
  {
   "cell_type": "code",
   "execution_count": null,
   "id": "d22ffc07",
   "metadata": {},
   "outputs": [],
   "source": [
    "from gifComparaTransformado import *\n",
    "from generar_gif import *\n",
    "from IPython.display import Image\n",
    "\n",
    "\n",
    "unir_gifs(gif(datos_entrenamiento[2]), gif(datos_entrenamiento_transformados_flip[2]), \"resultado.gif\")\n",
    "\n",
    "Image(\"resultado.gif\")"
   ]
  },
  {
   "cell_type": "code",
   "execution_count": null,
   "id": "86e45a7b",
   "metadata": {},
   "outputs": [],
   "source": [
    "from generar_gif import gif\n",
    "from IPython.display import Image\n",
    "\n",
    "Image(gif(datos_entrenamiento_transformados_flip[1]))"
   ]
  }
 ],
 "metadata": {
  "kernelspec": {
   "display_name": "Python 3 (ipykernel)",
   "language": "python",
   "name": "python3"
  },
  "language_info": {
   "codemirror_mode": {
    "name": "ipython",
    "version": 3
   },
   "file_extension": ".py",
   "mimetype": "text/x-python",
   "name": "python",
   "nbconvert_exporter": "python",
   "pygments_lexer": "ipython3",
   "version": "3.9.13"
  }
 },
 "nbformat": 4,
 "nbformat_minor": 5
}
